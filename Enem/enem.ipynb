{
 "cells": [
  {
   "cell_type": "markdown",
   "metadata": {},
   "source": [
    "# <center> Aula Prática do Módulo 01 </center>\n",
    "<div style=\"text-align: right\">\n",
    "    <b>Bootcamp Engenharia de Dados</b><br>\n",
    "    <b>Criado por</b> <i>Maycon Cypriano</i><br>\n",
    "</div>"
   ]
  },
  {
   "cell_type": "markdown",
   "metadata": {},
   "source": [
    "#### Importando Bibliotecas "
   ]
  },
  {
   "cell_type": "code",
   "execution_count": 1,
   "metadata": {},
   "outputs": [],
   "source": [
    "import pandas as pd\n",
    "import numpy as np\n",
    "import zipfile\n",
    "import requests\n",
    "from io import BytesIO\n",
    "import os\n",
    "import dask.dataframe as dd"
   ]
  },
  {
   "cell_type": "code",
   "execution_count": 2,
   "metadata": {},
   "outputs": [],
   "source": [
    "# trabalhando a url\n",
    "url = 'https://download.inep.gov.br/microdados/microdados_enem_2019.zip'"
   ]
  },
  {
   "cell_type": "code",
   "execution_count": 3,
   "metadata": {},
   "outputs": [],
   "source": [
    "#criar um diretorio para armazenar os dados do ENEM\n",
    "os.makedirs('Enem', exist_ok=True)"
   ]
  },
  {
   "cell_type": "markdown",
   "metadata": {},
   "source": [
    "# requisição do arquivo.zip\n",
    "\n",
    "filebytes = BytesIO(\n",
    "    \n",
    "    requests.get(url, stream=True).content\n",
    "    \n",
    "\n",
    ")\n",
    "\n",
    "#descompactar o conteúdo do zip\n",
    "\n",
    "zip = zipfile.ZipFile(filebytes)\n",
    "zip.extractall('Enem')\n"
   ]
  },
  {
   "cell_type": "code",
   "execution_count": 4,
   "metadata": {},
   "outputs": [],
   "source": [
    "#Trabalhando com Dask\n",
    "#Dask é um spark com menor potencia\n",
    "enem = dd.read_csv('Enem/MICRODADOS_ENEM_2019.csv', sep=';', decimal =',', encoding='latin1')"
   ]
  },
  {
   "cell_type": "code",
   "execution_count": 6,
   "metadata": {},
   "outputs": [],
   "source": [
    "enemRJ = enem.loc[\n",
    "    enem.SG_UF_RESIDENCIA == 'RJ'\n",
    "]\n",
    "enemMG = enem.loc[\n",
    "    enem.SG_UF_RESIDENCIA == 'MG'\n",
    "]\n",
    "enemSP = enem.loc[\n",
    "    enem.SG_UF_RESIDENCIA == 'SP'\n",
    "]\n",
    "enemES = enem.loc[\n",
    "    enem.SG_UF_RESIDENCIA == 'ES'\n",
    "]"
   ]
  },
  {
   "cell_type": "code",
   "execution_count": null,
   "metadata": {},
   "outputs": [],
   "source": [
    "enemES = enem.compute()"
   ]
  },
  {
   "cell_type": "code",
   "execution_count": null,
   "metadata": {},
   "outputs": [],
   "source": []
  },
  {
   "cell_type": "code",
   "execution_count": null,
   "metadata": {},
   "outputs": [],
   "source": []
  }
 ],
 "metadata": {
  "kernelspec": {
   "display_name": "Python 3",
   "language": "python",
   "name": "python3"
  },
  "language_info": {
   "codemirror_mode": {
    "name": "ipython",
    "version": 3
   },
   "file_extension": ".py",
   "mimetype": "text/x-python",
   "name": "python",
   "nbconvert_exporter": "python",
   "pygments_lexer": "ipython3",
   "version": "3.8.5"
  }
 },
 "nbformat": 4,
 "nbformat_minor": 4
}
