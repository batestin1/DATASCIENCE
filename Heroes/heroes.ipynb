{
 "cells": [
  {
   "cell_type": "markdown",
   "metadata": {},
   "source": [
    "# <center> MARVEL </center>\n",
    "### <center> A comparative analysis from Marvel Comics </center>\n",
    "---\n",
    "> * <b>Created by: </b> <i> Maycon Cypriano </i>\n",
    "> * <b>Date: </b> <i> February, 05 of 2021 </i>\n",
    "> * <b>Dataset from: </b> <i>https://www.marvel.com/</i>\n"
   ]
  },
  {
   "cell_type": "code",
   "execution_count": 1,
   "metadata": {},
   "outputs": [],
   "source": [
    "import numpy as np \n",
    "import pandas as pd \n",
    "import matplotlib.pyplot as plt\n",
    "import seaborn as sns\n",
    "from subprocess import check_output"
   ]
  },
  {
   "cell_type": "code",
   "execution_count": 2,
   "metadata": {},
   "outputs": [],
   "source": [
    "dados = pd.read_csv('charcters_stats.csv')"
   ]
  },
  {
   "cell_type": "code",
   "execution_count": 3,
   "metadata": {},
   "outputs": [
    {
     "name": "stdout",
     "output_type": "stream",
     "text": [
      "That is our Dataframe\n",
      "          Name Alignment  Intelligence  Strength  Speed  Durability  Power  \\\n",
      "0      3-D Man      good            50        31     43          32     25   \n",
      "1       A-Bomb      good            38       100     17          80     17   \n",
      "2   Abe Sapien      good            88        14     35          42     35   \n",
      "3     Abin Sur      good            50        90     53          64     84   \n",
      "4  Abomination       bad            63        80     53          90     55   \n",
      "\n",
      "   Combat  Total  \n",
      "0      52    233  \n",
      "1      64    316  \n",
      "2      85    299  \n",
      "3      65    406  \n",
      "4      95    436  \n"
     ]
    }
   ],
   "source": [
    "print('That is our Dataframe')\n",
    "print(dados.head())"
   ]
  },
  {
   "cell_type": "code",
   "execution_count": 4,
   "metadata": {},
   "outputs": [
    {
     "name": "stdout",
     "output_type": "stream",
     "text": [
      " \n",
      "\n",
      "9 is the number of columns\n",
      "611 is the number of rows\n",
      "\n",
      "\n"
     ]
    }
   ],
   "source": [
    "col = dados.shape[1]\n",
    "row = dados.shape[0]\n",
    "print(f\"\"\" \n",
    "\n",
    "{col} is the number of columns\n",
    "{row} is the number of rows\n",
    "\n",
    "\"\"\"\n",
    ")"
   ]
  },
  {
   "cell_type": "code",
   "execution_count": 5,
   "metadata": {},
   "outputs": [
    {
     "name": "stdout",
     "output_type": "stream",
     "text": [
      "\n",
      "\n",
      "From our dataset we can make the following initial observations:\n",
      "the variables are:\n",
      "\n",
      "1 - Name;\n",
      "2 - Alignment; \n",
      "3 - Intelligence; \n",
      "4 - Strength; \n",
      "5 - Speed; \n",
      "7 - Durability;\n",
      "8 - Power;\n",
      "9 - Combat;\n",
      "10 - Total.\n",
      "\n",
      "and they say particular characteristics of each individual from Marvel.For example:\n",
      "Alignment, it refers to the type of alliance that the character has with his moral concepts, that is, he or she is good or bad.\n",
      "This variable, as well as the name, are the only objects of our Dataframe.\n",
      "\n",
      "\n"
     ]
    }
   ],
   "source": [
    "columns = dados.columns\n",
    "\n",
    "print(f\"\"\"\n",
    "\n",
    "From our dataset we can make the following initial observations:\n",
    "the variables are:\n",
    "\n",
    "1 - {columns[0]};\n",
    "2 - {columns[1]}; \n",
    "3 - {columns[2]}; \n",
    "4 - {columns[3]}; \n",
    "5 - {columns[4]}; \n",
    "7 - {columns[5]};\n",
    "8 - {columns[6]};\n",
    "9 - {columns[7]};\n",
    "10 - {columns[8]}.\n",
    "\n",
    "and they say particular characteristics of each individual from Marvel.For example:\n",
    "{columns[1]}, it refers to the type of alliance that the character has with his moral concepts, that is, he or she is good or bad.\n",
    "This variable, as well as the name, are the only objects of our Dataframe.\n",
    "\n",
    "\"\"\")\n"
   ]
  },
  {
   "cell_type": "code",
   "execution_count": 6,
   "metadata": {},
   "outputs": [
    {
     "name": "stdout",
     "output_type": "stream",
     "text": [
      "Let's created a series definition from a variable 'Alignment and, also, a framework definition from variabel 'Power'.\n",
      "Remembering that our purpose here is to create a study of the relationship of variables in the characters.\n",
      "This is the serie 0      good\n",
      "1      good\n",
      "2      good\n",
      "3      good\n",
      "4       bad\n",
      "       ... \n",
      "606    good\n",
      "607    good\n",
      "608    good\n",
      "609    good\n",
      "610     bad\n",
      "Name: Alignment, Length: 611, dtype: object from our Dataframe\n",
      "and our Data Framework is      Power\n",
      "0       25\n",
      "1       17\n",
      "2       35\n",
      "3       84\n",
      "4       55\n",
      "..     ...\n",
      "606     12\n",
      "607     31\n",
      "608     83\n",
      "609    100\n",
      "610     72\n",
      "\n",
      "[611 rows x 1 columns]\n"
     ]
    }
   ],
   "source": [
    "print(\"Let's created a series definition from a variable 'Alignment and, also, a framework definition from variabel 'Power'.\")\n",
    "print('Remembering that our purpose here is to create a study of the relationship of variables in the characters.')\n",
    "\n",
    "series=dados['Alignment']\n",
    "print(f\"This is the serie {series} from our Dataframe\")\n",
    "\n",
    "dataFramework=dados[['Power']]\n",
    "print(f\"and our Data Framework is {dataFramework}\")\n"
   ]
  },
  {
   "cell_type": "code",
   "execution_count": 7,
   "metadata": {},
   "outputs": [
    {
     "name": "stdout",
     "output_type": "stream",
     "text": [
      "<class 'pandas.core.frame.DataFrame'>\n",
      "RangeIndex: 611 entries, 0 to 610\n",
      "Data columns (total 9 columns):\n",
      " #   Column        Non-Null Count  Dtype \n",
      "---  ------        --------------  ----- \n",
      " 0   Name          611 non-null    object\n",
      " 1   Alignment     608 non-null    object\n",
      " 2   Intelligence  611 non-null    int64 \n",
      " 3   Strength      611 non-null    int64 \n",
      " 4   Speed         611 non-null    int64 \n",
      " 5   Durability    611 non-null    int64 \n",
      " 6   Power         611 non-null    int64 \n",
      " 7   Combat        611 non-null    int64 \n",
      " 8   Total         611 non-null    int64 \n",
      "dtypes: int64(7), object(2)\n",
      "memory usage: 43.1+ KB\n"
     ]
    }
   ],
   "source": [
    "dados.info()"
   ]
  },
  {
   "cell_type": "code",
   "execution_count": 8,
   "metadata": {},
   "outputs": [
    {
     "data": {
      "text/html": [
       "<div>\n",
       "<style scoped>\n",
       "    .dataframe tbody tr th:only-of-type {\n",
       "        vertical-align: middle;\n",
       "    }\n",
       "\n",
       "    .dataframe tbody tr th {\n",
       "        vertical-align: top;\n",
       "    }\n",
       "\n",
       "    .dataframe thead th {\n",
       "        text-align: right;\n",
       "    }\n",
       "</style>\n",
       "<table border=\"1\" class=\"dataframe\">\n",
       "  <thead>\n",
       "    <tr style=\"text-align: right;\">\n",
       "      <th></th>\n",
       "      <th>Intelligence</th>\n",
       "      <th>Strength</th>\n",
       "      <th>Speed</th>\n",
       "      <th>Durability</th>\n",
       "      <th>Power</th>\n",
       "      <th>Combat</th>\n",
       "      <th>Total</th>\n",
       "    </tr>\n",
       "  </thead>\n",
       "  <tbody>\n",
       "    <tr>\n",
       "      <th>Intelligence</th>\n",
       "      <td>1.000000</td>\n",
       "      <td>0.565508</td>\n",
       "      <td>0.619845</td>\n",
       "      <td>0.683933</td>\n",
       "      <td>0.720550</td>\n",
       "      <td>0.783679</td>\n",
       "      <td>0.856352</td>\n",
       "    </tr>\n",
       "    <tr>\n",
       "      <th>Strength</th>\n",
       "      <td>0.565508</td>\n",
       "      <td>1.000000</td>\n",
       "      <td>0.640657</td>\n",
       "      <td>0.793649</td>\n",
       "      <td>0.639829</td>\n",
       "      <td>0.575045</td>\n",
       "      <td>0.824557</td>\n",
       "    </tr>\n",
       "    <tr>\n",
       "      <th>Speed</th>\n",
       "      <td>0.619845</td>\n",
       "      <td>0.640657</td>\n",
       "      <td>1.000000</td>\n",
       "      <td>0.704255</td>\n",
       "      <td>0.683467</td>\n",
       "      <td>0.594568</td>\n",
       "      <td>0.813902</td>\n",
       "    </tr>\n",
       "    <tr>\n",
       "      <th>Durability</th>\n",
       "      <td>0.683933</td>\n",
       "      <td>0.793649</td>\n",
       "      <td>0.704255</td>\n",
       "      <td>1.000000</td>\n",
       "      <td>0.756840</td>\n",
       "      <td>0.679583</td>\n",
       "      <td>0.907441</td>\n",
       "    </tr>\n",
       "    <tr>\n",
       "      <th>Power</th>\n",
       "      <td>0.720550</td>\n",
       "      <td>0.639829</td>\n",
       "      <td>0.683467</td>\n",
       "      <td>0.756840</td>\n",
       "      <td>1.000000</td>\n",
       "      <td>0.653452</td>\n",
       "      <td>0.873359</td>\n",
       "    </tr>\n",
       "    <tr>\n",
       "      <th>Combat</th>\n",
       "      <td>0.783679</td>\n",
       "      <td>0.575045</td>\n",
       "      <td>0.594568</td>\n",
       "      <td>0.679583</td>\n",
       "      <td>0.653452</td>\n",
       "      <td>1.000000</td>\n",
       "      <td>0.839966</td>\n",
       "    </tr>\n",
       "    <tr>\n",
       "      <th>Total</th>\n",
       "      <td>0.856352</td>\n",
       "      <td>0.824557</td>\n",
       "      <td>0.813902</td>\n",
       "      <td>0.907441</td>\n",
       "      <td>0.873359</td>\n",
       "      <td>0.839966</td>\n",
       "      <td>1.000000</td>\n",
       "    </tr>\n",
       "  </tbody>\n",
       "</table>\n",
       "</div>"
      ],
      "text/plain": [
       "              Intelligence  Strength     Speed  Durability     Power  \\\n",
       "Intelligence      1.000000  0.565508  0.619845    0.683933  0.720550   \n",
       "Strength          0.565508  1.000000  0.640657    0.793649  0.639829   \n",
       "Speed             0.619845  0.640657  1.000000    0.704255  0.683467   \n",
       "Durability        0.683933  0.793649  0.704255    1.000000  0.756840   \n",
       "Power             0.720550  0.639829  0.683467    0.756840  1.000000   \n",
       "Combat            0.783679  0.575045  0.594568    0.679583  0.653452   \n",
       "Total             0.856352  0.824557  0.813902    0.907441  0.873359   \n",
       "\n",
       "                Combat     Total  \n",
       "Intelligence  0.783679  0.856352  \n",
       "Strength      0.575045  0.824557  \n",
       "Speed         0.594568  0.813902  \n",
       "Durability    0.679583  0.907441  \n",
       "Power         0.653452  0.873359  \n",
       "Combat        1.000000  0.839966  \n",
       "Total         0.839966  1.000000  "
      ]
     },
     "execution_count": 8,
     "metadata": {},
     "output_type": "execute_result"
    }
   ],
   "source": [
    "# Created a correlation between Series\n",
    "dados.corr()\n"
   ]
  },
  {
   "cell_type": "code",
   "execution_count": 9,
   "metadata": {},
   "outputs": [
    {
     "data": {
      "text/html": [
       "<div>\n",
       "<style scoped>\n",
       "    .dataframe tbody tr th:only-of-type {\n",
       "        vertical-align: middle;\n",
       "    }\n",
       "\n",
       "    .dataframe tbody tr th {\n",
       "        vertical-align: top;\n",
       "    }\n",
       "\n",
       "    .dataframe thead th {\n",
       "        text-align: right;\n",
       "    }\n",
       "</style>\n",
       "<table border=\"1\" class=\"dataframe\">\n",
       "  <thead>\n",
       "    <tr style=\"text-align: right;\">\n",
       "      <th></th>\n",
       "      <th>Name</th>\n",
       "      <th>Alignment</th>\n",
       "      <th>Intelligence</th>\n",
       "      <th>Strength</th>\n",
       "      <th>Speed</th>\n",
       "      <th>Durability</th>\n",
       "      <th>Power</th>\n",
       "      <th>Combat</th>\n",
       "      <th>Total</th>\n",
       "    </tr>\n",
       "  </thead>\n",
       "  <tbody>\n",
       "    <tr>\n",
       "      <th>0</th>\n",
       "      <td>3-D Man</td>\n",
       "      <td>good</td>\n",
       "      <td>50</td>\n",
       "      <td>31</td>\n",
       "      <td>43</td>\n",
       "      <td>32</td>\n",
       "      <td>25</td>\n",
       "      <td>52</td>\n",
       "      <td>233</td>\n",
       "    </tr>\n",
       "    <tr>\n",
       "      <th>1</th>\n",
       "      <td>A-Bomb</td>\n",
       "      <td>good</td>\n",
       "      <td>38</td>\n",
       "      <td>100</td>\n",
       "      <td>17</td>\n",
       "      <td>80</td>\n",
       "      <td>17</td>\n",
       "      <td>64</td>\n",
       "      <td>316</td>\n",
       "    </tr>\n",
       "    <tr>\n",
       "      <th>2</th>\n",
       "      <td>Abe Sapien</td>\n",
       "      <td>good</td>\n",
       "      <td>88</td>\n",
       "      <td>14</td>\n",
       "      <td>35</td>\n",
       "      <td>42</td>\n",
       "      <td>35</td>\n",
       "      <td>85</td>\n",
       "      <td>299</td>\n",
       "    </tr>\n",
       "    <tr>\n",
       "      <th>3</th>\n",
       "      <td>Abin Sur</td>\n",
       "      <td>good</td>\n",
       "      <td>50</td>\n",
       "      <td>90</td>\n",
       "      <td>53</td>\n",
       "      <td>64</td>\n",
       "      <td>84</td>\n",
       "      <td>65</td>\n",
       "      <td>406</td>\n",
       "    </tr>\n",
       "    <tr>\n",
       "      <th>4</th>\n",
       "      <td>Abomination</td>\n",
       "      <td>bad</td>\n",
       "      <td>63</td>\n",
       "      <td>80</td>\n",
       "      <td>53</td>\n",
       "      <td>90</td>\n",
       "      <td>55</td>\n",
       "      <td>95</td>\n",
       "      <td>436</td>\n",
       "    </tr>\n",
       "  </tbody>\n",
       "</table>\n",
       "</div>"
      ],
      "text/plain": [
       "          Name Alignment  Intelligence  Strength  Speed  Durability  Power  \\\n",
       "0      3-D Man      good            50        31     43          32     25   \n",
       "1       A-Bomb      good            38       100     17          80     17   \n",
       "2   Abe Sapien      good            88        14     35          42     35   \n",
       "3     Abin Sur      good            50        90     53          64     84   \n",
       "4  Abomination       bad            63        80     53          90     55   \n",
       "\n",
       "   Combat  Total  \n",
       "0      52    233  \n",
       "1      64    316  \n",
       "2      85    299  \n",
       "3      65    406  \n",
       "4      95    436  "
      ]
     },
     "execution_count": 9,
     "metadata": {},
     "output_type": "execute_result"
    }
   ],
   "source": [
    "dados.head()"
   ]
  },
  {
   "cell_type": "markdown",
   "metadata": {},
   "source": [
    "# Work with Plots"
   ]
  },
  {
   "cell_type": "code",
   "execution_count": 10,
   "metadata": {},
   "outputs": [
    {
     "data": {
      "text/plain": [
       "Text(0.5, 1.0, 'Strength and Power Plot')"
      ]
     },
     "execution_count": 10,
     "metadata": {},
     "output_type": "execute_result"
    },
    {
     "data": {
      "image/png": "[encoded data removed]",
      "text/plain": [
       "<Figure size 432x288 with 1 Axes>"
      ]
     },
     "metadata": {
      "needs_background": "light"
     },
     "output_type": "display_data"
    }
   ],
   "source": [
    "# Scater plot \n",
    "\n",
    "dados.plot(kind='scatter', x='Strength',y='Power',alpha=0.5,color='blue')\n",
    "plt.xlabel1=('Strength')\n",
    "plt.ylabel1=('Power')\n",
    "plt.title('Strength and Power Plot')\n"
   ]
  },
  {
   "cell_type": "code",
   "execution_count": 11,
   "metadata": {},
   "outputs": [
    {
     "data": {
      "image/png": "[encoded data removed]",
      "text/plain": [
       "<Figure size 1080x360 with 1 Axes>"
      ]
     },
     "metadata": {
      "needs_background": "light"
     },
     "output_type": "display_data"
    }
   ],
   "source": [
    "#hist of variable Total\n",
    "dados.Total.plot(kind = 'hist',bins = 10,figsize = (15, 5))\n",
    "plt.legend(loc='upper center')\n",
    "plt.xlabel('x axis')\n",
    "plt.show()"
   ]
  },
  {
   "cell_type": "code",
   "execution_count": 12,
   "metadata": {},
   "outputs": [
    {
     "data": {
      "text/plain": [
       "<Figure size 432x288 with 0 Axes>"
      ]
     },
     "metadata": {},
     "output_type": "display_data"
    }
   ],
   "source": [
    "dados.Speed.plot(kind = 'hist',bins = 10)\n",
    "plt.clf()"
   ]
  },
  {
   "cell_type": "code",
   "execution_count": 13,
   "metadata": {},
   "outputs": [
    {
     "data": {
      "text/html": [
       "<div>\n",
       "<style scoped>\n",
       "    .dataframe tbody tr th:only-of-type {\n",
       "        vertical-align: middle;\n",
       "    }\n",
       "\n",
       "    .dataframe tbody tr th {\n",
       "        vertical-align: top;\n",
       "    }\n",
       "\n",
       "    .dataframe thead th {\n",
       "        text-align: right;\n",
       "    }\n",
       "</style>\n",
       "<table border=\"1\" class=\"dataframe\">\n",
       "  <thead>\n",
       "    <tr style=\"text-align: right;\">\n",
       "      <th></th>\n",
       "      <th>Intelligence</th>\n",
       "      <th>Strength</th>\n",
       "      <th>Speed</th>\n",
       "      <th>Durability</th>\n",
       "      <th>Power</th>\n",
       "      <th>Combat</th>\n",
       "      <th>Total</th>\n",
       "    </tr>\n",
       "  </thead>\n",
       "  <tbody>\n",
       "    <tr>\n",
       "      <th>Intelligence</th>\n",
       "      <td>1.000000</td>\n",
       "      <td>0.565508</td>\n",
       "      <td>0.619845</td>\n",
       "      <td>0.683933</td>\n",
       "      <td>0.720550</td>\n",
       "      <td>0.783679</td>\n",
       "      <td>0.856352</td>\n",
       "    </tr>\n",
       "    <tr>\n",
       "      <th>Strength</th>\n",
       "      <td>0.565508</td>\n",
       "      <td>1.000000</td>\n",
       "      <td>0.640657</td>\n",
       "      <td>0.793649</td>\n",
       "      <td>0.639829</td>\n",
       "      <td>0.575045</td>\n",
       "      <td>0.824557</td>\n",
       "    </tr>\n",
       "    <tr>\n",
       "      <th>Speed</th>\n",
       "      <td>0.619845</td>\n",
       "      <td>0.640657</td>\n",
       "      <td>1.000000</td>\n",
       "      <td>0.704255</td>\n",
       "      <td>0.683467</td>\n",
       "      <td>0.594568</td>\n",
       "      <td>0.813902</td>\n",
       "    </tr>\n",
       "    <tr>\n",
       "      <th>Durability</th>\n",
       "      <td>0.683933</td>\n",
       "      <td>0.793649</td>\n",
       "      <td>0.704255</td>\n",
       "      <td>1.000000</td>\n",
       "      <td>0.756840</td>\n",
       "      <td>0.679583</td>\n",
       "      <td>0.907441</td>\n",
       "    </tr>\n",
       "    <tr>\n",
       "      <th>Power</th>\n",
       "      <td>0.720550</td>\n",
       "      <td>0.639829</td>\n",
       "      <td>0.683467</td>\n",
       "      <td>0.756840</td>\n",
       "      <td>1.000000</td>\n",
       "      <td>0.653452</td>\n",
       "      <td>0.873359</td>\n",
       "    </tr>\n",
       "    <tr>\n",
       "      <th>Combat</th>\n",
       "      <td>0.783679</td>\n",
       "      <td>0.575045</td>\n",
       "      <td>0.594568</td>\n",
       "      <td>0.679583</td>\n",
       "      <td>0.653452</td>\n",
       "      <td>1.000000</td>\n",
       "      <td>0.839966</td>\n",
       "    </tr>\n",
       "    <tr>\n",
       "      <th>Total</th>\n",
       "      <td>0.856352</td>\n",
       "      <td>0.824557</td>\n",
       "      <td>0.813902</td>\n",
       "      <td>0.907441</td>\n",
       "      <td>0.873359</td>\n",
       "      <td>0.839966</td>\n",
       "      <td>1.000000</td>\n",
       "    </tr>\n",
       "  </tbody>\n",
       "</table>\n",
       "</div>"
      ],
      "text/plain": [
       "              Intelligence  Strength     Speed  Durability     Power  \\\n",
       "Intelligence      1.000000  0.565508  0.619845    0.683933  0.720550   \n",
       "Strength          0.565508  1.000000  0.640657    0.793649  0.639829   \n",
       "Speed             0.619845  0.640657  1.000000    0.704255  0.683467   \n",
       "Durability        0.683933  0.793649  0.704255    1.000000  0.756840   \n",
       "Power             0.720550  0.639829  0.683467    0.756840  1.000000   \n",
       "Combat            0.783679  0.575045  0.594568    0.679583  0.653452   \n",
       "Total             0.856352  0.824557  0.813902    0.907441  0.873359   \n",
       "\n",
       "                Combat     Total  \n",
       "Intelligence  0.783679  0.856352  \n",
       "Strength      0.575045  0.824557  \n",
       "Speed         0.594568  0.813902  \n",
       "Durability    0.679583  0.907441  \n",
       "Power         0.653452  0.873359  \n",
       "Combat        1.000000  0.839966  \n",
       "Total         0.839966  1.000000  "
      ]
     },
     "execution_count": 13,
     "metadata": {},
     "output_type": "execute_result"
    }
   ],
   "source": [
    "dados.corr()"
   ]
  },
  {
   "cell_type": "code",
   "execution_count": 14,
   "metadata": {},
   "outputs": [],
   "source": [
    "from sklearn.model_selection import train_test_split\n",
    "from sklearn.preprocessing import StandardScaler\n",
    "from sklearn.metrics import mean_squared_error\n",
    "from sklearn.model_selection import cross_val_score, GridSearchCV, KFold, RandomizedSearchCV, train_test_split"
   ]
  },
  {
   "cell_type": "code",
   "execution_count": 15,
   "metadata": {},
   "outputs": [],
   "source": [
    "x = dados[['Intelligence', 'Strength', 'Speed', 'Durability', 'Power', 'Combat']]\n",
    "y = dados['Total']"
   ]
  },
  {
   "cell_type": "code",
   "execution_count": 16,
   "metadata": {},
   "outputs": [],
   "source": [
    "x_train, x_test, y_train, y_test = train_test_split(x, y, test_size=0.3, random_state=2811)"
   ]
  },
  {
   "cell_type": "code",
   "execution_count": 71,
   "metadata": {},
   "outputs": [
    {
     "data": {
      "text/plain": [
       "(427, 6)"
      ]
     },
     "execution_count": 71,
     "metadata": {},
     "output_type": "execute_result"
    }
   ],
   "source": [
    "x_train.shape"
   ]
  },
  {
   "cell_type": "code",
   "execution_count": 17,
   "metadata": {},
   "outputs": [
    {
     "data": {
      "text/plain": [
       "(184, 6)"
      ]
     },
     "execution_count": 17,
     "metadata": {},
     "output_type": "execute_result"
    }
   ],
   "source": [
    "x_test.shape"
   ]
  },
  {
   "cell_type": "code",
   "execution_count": 18,
   "metadata": {},
   "outputs": [],
   "source": [
    "from sklearn.linear_model import LinearRegression\n",
    "from sklearn import metrics"
   ]
  },
  {
   "cell_type": "code",
   "execution_count": 19,
   "metadata": {},
   "outputs": [],
   "source": [
    "model = LinearRegression()"
   ]
  },
  {
   "cell_type": "code",
   "execution_count": 20,
   "metadata": {},
   "outputs": [
    {
     "data": {
      "text/plain": [
       "LinearRegression()"
      ]
     },
     "execution_count": 20,
     "metadata": {},
     "output_type": "execute_result"
    }
   ],
   "source": [
    "model.fit(x_train, y_train)"
   ]
  },
  {
   "cell_type": "code",
   "execution_count": 21,
   "metadata": {},
   "outputs": [
    {
     "name": "stdout",
     "output_type": "stream",
     "text": [
      " The coefficient of determination (R²) is a summary measure that tells how much the regression line fits the data.\n",
      "In our case, is identify by R² = 1.0\n"
     ]
    }
   ],
   "source": [
    "print(f\"\"\" The coefficient of determination (R²) is a summary measure that tells how much the regression line fits the data.\n",
    "In our case, is identify by R² = {model.score(x_train,y_train).round(2)}\"\"\")"
   ]
  },
  {
   "cell_type": "code",
   "execution_count": 22,
   "metadata": {},
   "outputs": [],
   "source": [
    "y_pre = model.predict(x_test)"
   ]
  },
  {
   "cell_type": "code",
   "execution_count": 23,
   "metadata": {},
   "outputs": [
    {
     "name": "stdout",
     "output_type": "stream",
     "text": [
      "Thus we determine that the coefficient of determination (R²) for the predictions of our model is equal to 1.0\n"
     ]
    }
   ],
   "source": [
    "print(f\"\"\"Thus we determine that the coefficient of determination (R²) for the predictions of our model is equal to {metrics.r2_score(y_test, y_pre).round(2)}\"\"\")"
   ]
  },
  {
   "cell_type": "markdown",
   "metadata": {},
   "source": [
    "# Getting One-Time Forecasts"
   ]
  },
  {
   "cell_type": "code",
   "execution_count": 24,
   "metadata": {},
   "outputs": [
    {
     "data": {
      "text/html": [
       "<div>\n",
       "<style scoped>\n",
       "    .dataframe tbody tr th:only-of-type {\n",
       "        vertical-align: middle;\n",
       "    }\n",
       "\n",
       "    .dataframe tbody tr th {\n",
       "        vertical-align: top;\n",
       "    }\n",
       "\n",
       "    .dataframe thead th {\n",
       "        text-align: right;\n",
       "    }\n",
       "</style>\n",
       "<table border=\"1\" class=\"dataframe\">\n",
       "  <thead>\n",
       "    <tr style=\"text-align: right;\">\n",
       "      <th></th>\n",
       "      <th>Intelligence</th>\n",
       "      <th>Strength</th>\n",
       "      <th>Speed</th>\n",
       "      <th>Durability</th>\n",
       "      <th>Power</th>\n",
       "      <th>Combat</th>\n",
       "    </tr>\n",
       "  </thead>\n",
       "  <tbody>\n",
       "    <tr>\n",
       "      <th>66</th>\n",
       "      <td>50</td>\n",
       "      <td>28</td>\n",
       "      <td>50</td>\n",
       "      <td>70</td>\n",
       "      <td>79</td>\n",
       "      <td>40</td>\n",
       "    </tr>\n",
       "  </tbody>\n",
       "</table>\n",
       "</div>"
      ],
      "text/plain": [
       "    Intelligence  Strength  Speed  Durability  Power  Combat\n",
       "66            50        28     50          70     79      40"
      ]
     },
     "execution_count": 24,
     "metadata": {},
     "output_type": "execute_result"
    }
   ],
   "source": [
    "intro = x_test[0:1]\n",
    "intro"
   ]
  },
  {
   "cell_type": "code",
   "execution_count": 25,
   "metadata": {},
   "outputs": [
    {
     "data": {
      "text/plain": [
       "317.0000000000001"
      ]
     },
     "execution_count": 25,
     "metadata": {},
     "output_type": "execute_result"
    }
   ],
   "source": [
    "#point forecast\n",
    "model.predict(intro)[0]"
   ]
  },
  {
   "cell_type": "markdown",
   "metadata": {},
   "source": [
    "# Creating a simple simulator"
   ]
  },
  {
   "cell_type": "code",
   "execution_count": 26,
   "metadata": {},
   "outputs": [
    {
     "name": "stdout",
     "output_type": "stream",
     "text": [
      "What level of intelligence of your character (choose a number between 0 and 100) 60\n",
      "What is a Strength from your character (choose a number between 0 and 100) 80\n",
      "And the Speed: 70\n",
      "Now, writter a number for Durability 65\n",
      "And power: 79\n",
      "And finally, combat: 10\n",
      "364.00000000000017 is a acuracy of the Total score of you character\n"
     ]
    }
   ],
   "source": [
    "Intelligence=int(input(\"What level of intelligence of your character (choose a number between 0 and 100) \"))\n",
    "Strength= int(input(\"What is a Strength from your character (choose a number between 0 and 100) \"))\n",
    "Speed= int(input('And the Speed: '))\n",
    "Durability=int(input('Now, writter a number for Durability '))\n",
    "Power= int(input(\"And power: \"))\n",
    "Combat=int(input(\"And finally, combat: \"))\n",
    "intro=[[Intelligence, Strength, Speed, Durability, Power, Combat]]\n",
    "\n",
    "print(f'{model.predict(intro)[0]} is a acuracy of the Total score of you character')"
   ]
  },
  {
   "cell_type": "code",
   "execution_count": null,
   "metadata": {},
   "outputs": [],
   "source": []
  }
 ],
 "metadata": {
  "kernelspec": {
   "display_name": "Python 3",
   "language": "python",
   "name": "python3"
  },
  "language_info": {
   "codemirror_mode": {
    "name": "ipython",
    "version": 3
   },
   "file_extension": ".py",
   "mimetype": "text/x-python",
   "name": "python",
   "nbconvert_exporter": "python",
   "pygments_lexer": "ipython3",
   "version": "3.8.5"
  }
 },
 "nbformat": 4,
 "nbformat_minor": 4
}
