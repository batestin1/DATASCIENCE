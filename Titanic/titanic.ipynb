{
 "cells": [
  {
   "cell_type": "markdown",
   "metadata": {},
   "source": [
    "# Titanic: Machine Learning from Disaster\n",
    "\n",
    "<p> Desafio do Titanic é uma das competições mais famosas, e é promovida pelo site kaggle.com. Tamanha popularidade desta competição fez com que ela fosse considerada como sendo um Hello, World! para o universo fantástico do Data Science (Ciência de Dados).\n",
    "    Com certeza, a maioria de vocês conhece a história por trás do naufrágio deste que seria o navio mais moderno do mundo para a época. Apesar da tecnologia disponível, após colidir com um iceberg em 15 de abril de 1912, seu naufrágio matou 1502 pessoas de um total de 2224 passageiros.\n",
    "    Como principal fator contribuinte, logo se descobriu que não havia botes salva-vidas suficientes para toda a tripulação e passageiros.\n",
    "    O modelo deste projeto analisa, com os dados disponiveis pelo site Kaggle, a média real que um passageiro tinha para sobreviver devido as condições que se encontrava o naufrágio</p>"
   ]
  },
  {
   "cell_type": "markdown",
   "metadata": {},
   "source": [
    "# Checklist¶\n",
    "\n",
    "* 1) Definição do Problema\n",
    "* 2) Obtenção dos Dados\n",
    "* 3) Exploração dos Dados\n",
    "* 4) Preparação dos Dados\n",
    "* 5) Construção do Modelo\n",
    "* 6) Avaliação"
   ]
  },
  {
   "cell_type": "markdown",
   "metadata": {},
   "source": [
    "# 1. Definição do Problema\n",
    "\n",
    "<p> A construção do Titanic levou cerca de 2 anos e custou 7,5 milhões de dólares (valores da época). Com 269 metros de comprimento, 28 metros de largura e 53 metros de altura, operava com uma tripulação de 892 pessoas e poderia levar até 2435 passageiros (espalhados pelas três classes disponíveis).</p>\n",
    "   <p> Pensado para ser o mais seguro e luxuoso navio da época, foi lançado ao mar em 1911, ganhando fama de ser \"inafundável\".</p>\n",
    "   <p> O naufrágio do Titanic teve como fatores contribuintes causas naturais (como o clima) e causas humanas (negligência e excesso de confiança). </p>\n",
    "   <p> Independente das causas, o fato é que seu naufrágio matou 1502 pessoas de um total de 2224 passageiros.</p>\n",
    "   <p> Embora aqueles que escaparam com vida tiveram sua boa dose de sorte, alguns grupos de pessoas eram mais propensos a escaparem da morte do que outros. Por exemplo, mulheres, crianças e passageiros da 1ª Classe. Assim, nota-se que existe algum padrão que pode ser extraído dos dados brutos.</p>"
   ]
  },
  {
   "cell_type": "markdown",
   "metadata": {},
   "source": [
    "# 2. Obtendo os dados\n",
    "\n",
    "> Preparando os pacotes necessários"
   ]
  },
  {
   "cell_type": "code",
   "execution_count": 1,
   "metadata": {},
   "outputs": [],
   "source": [
    "import pandas as pd\n",
    "import numpy as np\n",
    "import matplotlib.pyplot as plt\n",
    "%matplotlib inline\n",
    "import seaborn as sns\n",
    "\n",
    "#biblioteca de Machine Learning\n",
    "from sklearn.linear_model import LogisticRegression\n",
    "from sklearn.tree import DecisionTreeClassifier\n",
    "\n",
    "# permitir visualizar todas as colunas\n",
    "pd.options.display.max_columns = None\n",
    "\n",
    "treino = pd.read_csv('train.csv')\n",
    "teste = pd.read_csv('test.csv')\n",
    "\n",
    " "
   ]
  },
  {
   "cell_type": "code",
   "execution_count": 2,
   "metadata": {},
   "outputs": [
    {
     "name": "stdout",
     "output_type": "stream",
     "text": [
      "Variavéis: 12\n",
      "Entradas: 891\n"
     ]
    }
   ],
   "source": [
    "# Analisando as variaveis e entradas do treino\n",
    "print(f\"Variavéis: {treino.shape[1]}\")\n",
    "print(f\"Entradas: {treino.shape[0]}\")"
   ]
  },
  {
   "cell_type": "markdown",
   "metadata": {},
   "source": [
    "# 3. Exploração dos Dados\n",
    "\n",
    ">  Dicionário dos Dados\n",
    "\n",
    "> 1. <b>PassengerId:</b> Número de identificação do passageiro;\n",
    "> 2. <b>Survived:</b> Informa se o passageiro sobreviveu ao desastre:\n",
    "    > <b> 0 =</b> NÃO\n",
    "    > <b> 1 =</b> SIM\n",
    "    \n",
    "> 3. <b>Pclass:</b> Classe do Bilhete:\n",
    "    > <b>1 =</b> 1º Classe;\n",
    "    > <b>2 =</b> 2º Classe;\n",
    "    > <b>3 =</b> 3º Classe;\n",
    "    \n",
    "> 4. <b>Name:</b> Nome do passageiro;\n",
    "> 5. <b>Sex:</b> Sexo do passageiro;\n",
    "> 6. <b>Age:</b> Idade do passageiro;\n",
    "> 7. <b>SibSp:</b> Quantidade de cônjugues e irmãos a bordo;\n",
    "> 8. <b>Parch:</b> Quantidade de pais e filhos a bordo;\n",
    "> 9. <b>Ticket:</b> Número da passagem;\n",
    "> 10. <b>Fare:</b> Preço da passagem;\n",
    "> 11. <b>Cabin:</b> Número da cabine do passageiro;\n",
    "> 12. <b>Embarked:</b> Porto na qual o passageiro embarcou.\n",
    "    > <b>C =</b> Cherbourg\n",
    "    > <b>Q =</b> Queenstown\n",
    "    > <b>S =</b> Southampton\n",
    "    "
   ]
  },
  {
   "cell_type": "code",
   "execution_count": 3,
   "metadata": {},
   "outputs": [
    {
     "data": {
      "text/plain": [
       "Index(['PassengerId', 'Survived', 'Pclass', 'Name', 'Sex', 'Age', 'SibSp',\n",
       "       'Parch', 'Ticket', 'Fare', 'Cabin', 'Embarked'],\n",
       "      dtype='object')"
      ]
     },
     "execution_count": 3,
     "metadata": {},
     "output_type": "execute_result"
    }
   ],
   "source": [
    "#vendo todas as colunas\n",
    "treino.columns"
   ]
  },
  {
   "cell_type": "code",
   "execution_count": 4,
   "metadata": {},
   "outputs": [],
   "source": [
    "#trocando os nomes das colunas\n",
    "treino.columns = ['IDpassageiro', 'Sobrevivente', 'Classe', 'Nome', 'Sexo', 'Idade', 'Conjugue', 'Familia', 'Bilhete', 'Preço', 'Cabine', 'Porto']\n"
   ]
  },
  {
   "cell_type": "code",
   "execution_count": 5,
   "metadata": {},
   "outputs": [
    {
     "data": {
      "text/plain": [
       "Index(['PassengerId', 'Pclass', 'Name', 'Sex', 'Age', 'SibSp', 'Parch',\n",
       "       'Ticket', 'Fare', 'Cabin', 'Embarked'],\n",
       "      dtype='object')"
      ]
     },
     "execution_count": 5,
     "metadata": {},
     "output_type": "execute_result"
    }
   ],
   "source": [
    "teste.columns"
   ]
  },
  {
   "cell_type": "code",
   "execution_count": 6,
   "metadata": {},
   "outputs": [],
   "source": [
    "teste.columns = ['IDpassageiro', 'Classe', 'Nome', 'Sexo', 'Idade', 'Conjugue', 'Familia', 'Bilhete', 'Preço', 'Cabine', 'Porto']"
   ]
  },
  {
   "cell_type": "code",
   "execution_count": 7,
   "metadata": {},
   "outputs": [
    {
     "data": {
      "text/plain": [
       "IDpassageiro      int64\n",
       "Sobrevivente      int64\n",
       "Classe            int64\n",
       "Nome             object\n",
       "Sexo             object\n",
       "Idade           float64\n",
       "Conjugue          int64\n",
       "Familia           int64\n",
       "Bilhete          object\n",
       "Preço           float64\n",
       "Cabine           object\n",
       "Porto            object\n",
       "dtype: object"
      ]
     },
     "metadata": {},
     "output_type": "display_data"
    },
    {
     "data": {
      "text/html": [
       "<div>\n",
       "<style scoped>\n",
       "    .dataframe tbody tr th:only-of-type {\n",
       "        vertical-align: middle;\n",
       "    }\n",
       "\n",
       "    .dataframe tbody tr th {\n",
       "        vertical-align: top;\n",
       "    }\n",
       "\n",
       "    .dataframe thead th {\n",
       "        text-align: right;\n",
       "    }\n",
       "</style>\n",
       "<table border=\"1\" class=\"dataframe\">\n",
       "  <thead>\n",
       "    <tr style=\"text-align: right;\">\n",
       "      <th></th>\n",
       "      <th>IDpassageiro</th>\n",
       "      <th>Sobrevivente</th>\n",
       "      <th>Classe</th>\n",
       "      <th>Nome</th>\n",
       "      <th>Sexo</th>\n",
       "      <th>Idade</th>\n",
       "      <th>Conjugue</th>\n",
       "      <th>Familia</th>\n",
       "      <th>Bilhete</th>\n",
       "      <th>Preço</th>\n",
       "      <th>Cabine</th>\n",
       "      <th>Porto</th>\n",
       "    </tr>\n",
       "  </thead>\n",
       "  <tbody>\n",
       "    <tr>\n",
       "      <th>0</th>\n",
       "      <td>1</td>\n",
       "      <td>0</td>\n",
       "      <td>3</td>\n",
       "      <td>Braund, Mr. Owen Harris</td>\n",
       "      <td>male</td>\n",
       "      <td>22.0</td>\n",
       "      <td>1</td>\n",
       "      <td>0</td>\n",
       "      <td>A/5 21171</td>\n",
       "      <td>7.2500</td>\n",
       "      <td>NaN</td>\n",
       "      <td>S</td>\n",
       "    </tr>\n",
       "    <tr>\n",
       "      <th>1</th>\n",
       "      <td>2</td>\n",
       "      <td>1</td>\n",
       "      <td>1</td>\n",
       "      <td>Cumings, Mrs. John Bradley (Florence Briggs Th...</td>\n",
       "      <td>female</td>\n",
       "      <td>38.0</td>\n",
       "      <td>1</td>\n",
       "      <td>0</td>\n",
       "      <td>PC 17599</td>\n",
       "      <td>71.2833</td>\n",
       "      <td>C85</td>\n",
       "      <td>C</td>\n",
       "    </tr>\n",
       "    <tr>\n",
       "      <th>2</th>\n",
       "      <td>3</td>\n",
       "      <td>1</td>\n",
       "      <td>3</td>\n",
       "      <td>Heikkinen, Miss. Laina</td>\n",
       "      <td>female</td>\n",
       "      <td>26.0</td>\n",
       "      <td>0</td>\n",
       "      <td>0</td>\n",
       "      <td>STON/O2. 3101282</td>\n",
       "      <td>7.9250</td>\n",
       "      <td>NaN</td>\n",
       "      <td>S</td>\n",
       "    </tr>\n",
       "    <tr>\n",
       "      <th>3</th>\n",
       "      <td>4</td>\n",
       "      <td>1</td>\n",
       "      <td>1</td>\n",
       "      <td>Futrelle, Mrs. Jacques Heath (Lily May Peel)</td>\n",
       "      <td>female</td>\n",
       "      <td>35.0</td>\n",
       "      <td>1</td>\n",
       "      <td>0</td>\n",
       "      <td>113803</td>\n",
       "      <td>53.1000</td>\n",
       "      <td>C123</td>\n",
       "      <td>S</td>\n",
       "    </tr>\n",
       "    <tr>\n",
       "      <th>4</th>\n",
       "      <td>5</td>\n",
       "      <td>0</td>\n",
       "      <td>3</td>\n",
       "      <td>Allen, Mr. William Henry</td>\n",
       "      <td>male</td>\n",
       "      <td>35.0</td>\n",
       "      <td>0</td>\n",
       "      <td>0</td>\n",
       "      <td>373450</td>\n",
       "      <td>8.0500</td>\n",
       "      <td>NaN</td>\n",
       "      <td>S</td>\n",
       "    </tr>\n",
       "  </tbody>\n",
       "</table>\n",
       "</div>"
      ],
      "text/plain": [
       "   IDpassageiro  Sobrevivente  Classe  \\\n",
       "0             1             0       3   \n",
       "1             2             1       1   \n",
       "2             3             1       3   \n",
       "3             4             1       1   \n",
       "4             5             0       3   \n",
       "\n",
       "                                                Nome    Sexo  Idade  Conjugue  \\\n",
       "0                            Braund, Mr. Owen Harris    male   22.0         1   \n",
       "1  Cumings, Mrs. John Bradley (Florence Briggs Th...  female   38.0         1   \n",
       "2                             Heikkinen, Miss. Laina  female   26.0         0   \n",
       "3       Futrelle, Mrs. Jacques Heath (Lily May Peel)  female   35.0         1   \n",
       "4                           Allen, Mr. William Henry    male   35.0         0   \n",
       "\n",
       "   Familia           Bilhete    Preço Cabine Porto  \n",
       "0        0         A/5 21171   7.2500    NaN     S  \n",
       "1        0          PC 17599  71.2833    C85     C  \n",
       "2        0  STON/O2. 3101282   7.9250    NaN     S  \n",
       "3        0            113803  53.1000   C123     S  \n",
       "4        0            373450   8.0500    NaN     S  "
      ]
     },
     "metadata": {},
     "output_type": "display_data"
    }
   ],
   "source": [
    "# identificar o tipo de cada variável\n",
    "display(treino.dtypes)\n",
    "display(treino.head())"
   ]
  },
  {
   "cell_type": "markdown",
   "metadata": {},
   "source": [
    "> Primeiro problema observado: CABINE\n",
    "> A informação sobre a Cabin é a que possui o maior número de informações faltantes, com mais de 77%. Após, a coluna IDADE não possui valor em quase 20% dos passageiros. Por fim, a coluna informando o Porto de embarque (Embarked) possui apenas 2% de informações faltantes."
   ]
  },
  {
   "cell_type": "code",
   "execution_count": 8,
   "metadata": {},
   "outputs": [
    {
     "data": {
      "text/plain": [
       "Cabine          0.771044\n",
       "Idade           0.198653\n",
       "Porto           0.002245\n",
       "Preço           0.000000\n",
       "Bilhete         0.000000\n",
       "Familia         0.000000\n",
       "Conjugue        0.000000\n",
       "Sexo            0.000000\n",
       "Nome            0.000000\n",
       "Classe          0.000000\n",
       "Sobrevivente    0.000000\n",
       "IDpassageiro    0.000000\n",
       "dtype: float64"
      ]
     },
     "execution_count": 8,
     "metadata": {},
     "output_type": "execute_result"
    }
   ],
   "source": [
    "# ver a porcentagem valores faltantes\n",
    "(treino.isnull().sum() / treino.shape[0]).sort_values(ascending=False)"
   ]
  },
  {
   "cell_type": "code",
   "execution_count": 9,
   "metadata": {},
   "outputs": [
    {
     "data": {
      "text/html": [
       "<div>\n",
       "<style scoped>\n",
       "    .dataframe tbody tr th:only-of-type {\n",
       "        vertical-align: middle;\n",
       "    }\n",
       "\n",
       "    .dataframe tbody tr th {\n",
       "        vertical-align: top;\n",
       "    }\n",
       "\n",
       "    .dataframe thead th {\n",
       "        text-align: right;\n",
       "    }\n",
       "</style>\n",
       "<table border=\"1\" class=\"dataframe\">\n",
       "  <thead>\n",
       "    <tr style=\"text-align: right;\">\n",
       "      <th></th>\n",
       "      <th>IDpassageiro</th>\n",
       "      <th>Sobrevivente</th>\n",
       "      <th>Classe</th>\n",
       "      <th>Idade</th>\n",
       "      <th>Conjugue</th>\n",
       "      <th>Familia</th>\n",
       "      <th>Preço</th>\n",
       "    </tr>\n",
       "  </thead>\n",
       "  <tbody>\n",
       "    <tr>\n",
       "      <th>count</th>\n",
       "      <td>891.000000</td>\n",
       "      <td>891.000000</td>\n",
       "      <td>891.000000</td>\n",
       "      <td>714.000000</td>\n",
       "      <td>891.000000</td>\n",
       "      <td>891.000000</td>\n",
       "      <td>891.000000</td>\n",
       "    </tr>\n",
       "    <tr>\n",
       "      <th>mean</th>\n",
       "      <td>446.000000</td>\n",
       "      <td>0.383838</td>\n",
       "      <td>2.308642</td>\n",
       "      <td>29.699118</td>\n",
       "      <td>0.523008</td>\n",
       "      <td>0.381594</td>\n",
       "      <td>32.204208</td>\n",
       "    </tr>\n",
       "    <tr>\n",
       "      <th>std</th>\n",
       "      <td>257.353842</td>\n",
       "      <td>0.486592</td>\n",
       "      <td>0.836071</td>\n",
       "      <td>14.526497</td>\n",
       "      <td>1.102743</td>\n",
       "      <td>0.806057</td>\n",
       "      <td>49.693429</td>\n",
       "    </tr>\n",
       "    <tr>\n",
       "      <th>min</th>\n",
       "      <td>1.000000</td>\n",
       "      <td>0.000000</td>\n",
       "      <td>1.000000</td>\n",
       "      <td>0.420000</td>\n",
       "      <td>0.000000</td>\n",
       "      <td>0.000000</td>\n",
       "      <td>0.000000</td>\n",
       "    </tr>\n",
       "    <tr>\n",
       "      <th>25%</th>\n",
       "      <td>223.500000</td>\n",
       "      <td>0.000000</td>\n",
       "      <td>2.000000</td>\n",
       "      <td>20.125000</td>\n",
       "      <td>0.000000</td>\n",
       "      <td>0.000000</td>\n",
       "      <td>7.910400</td>\n",
       "    </tr>\n",
       "    <tr>\n",
       "      <th>50%</th>\n",
       "      <td>446.000000</td>\n",
       "      <td>0.000000</td>\n",
       "      <td>3.000000</td>\n",
       "      <td>28.000000</td>\n",
       "      <td>0.000000</td>\n",
       "      <td>0.000000</td>\n",
       "      <td>14.454200</td>\n",
       "    </tr>\n",
       "    <tr>\n",
       "      <th>75%</th>\n",
       "      <td>668.500000</td>\n",
       "      <td>1.000000</td>\n",
       "      <td>3.000000</td>\n",
       "      <td>38.000000</td>\n",
       "      <td>1.000000</td>\n",
       "      <td>0.000000</td>\n",
       "      <td>31.000000</td>\n",
       "    </tr>\n",
       "    <tr>\n",
       "      <th>max</th>\n",
       "      <td>891.000000</td>\n",
       "      <td>1.000000</td>\n",
       "      <td>3.000000</td>\n",
       "      <td>80.000000</td>\n",
       "      <td>8.000000</td>\n",
       "      <td>6.000000</td>\n",
       "      <td>512.329200</td>\n",
       "    </tr>\n",
       "  </tbody>\n",
       "</table>\n",
       "</div>"
      ],
      "text/plain": [
       "       IDpassageiro  Sobrevivente      Classe       Idade    Conjugue  \\\n",
       "count    891.000000    891.000000  891.000000  714.000000  891.000000   \n",
       "mean     446.000000      0.383838    2.308642   29.699118    0.523008   \n",
       "std      257.353842      0.486592    0.836071   14.526497    1.102743   \n",
       "min        1.000000      0.000000    1.000000    0.420000    0.000000   \n",
       "25%      223.500000      0.000000    2.000000   20.125000    0.000000   \n",
       "50%      446.000000      0.000000    3.000000   28.000000    0.000000   \n",
       "75%      668.500000      1.000000    3.000000   38.000000    1.000000   \n",
       "max      891.000000      1.000000    3.000000   80.000000    8.000000   \n",
       "\n",
       "          Familia       Preço  \n",
       "count  891.000000  891.000000  \n",
       "mean     0.381594   32.204208  \n",
       "std      0.806057   49.693429  \n",
       "min      0.000000    0.000000  \n",
       "25%      0.000000    7.910400  \n",
       "50%      0.000000   14.454200  \n",
       "75%      0.000000   31.000000  \n",
       "max      6.000000  512.329200  "
      ]
     },
     "execution_count": 9,
     "metadata": {},
     "output_type": "execute_result"
    }
   ],
   "source": [
    "#analisando a estatistica desses dados\n",
    "treino.describe()"
   ]
  },
  {
   "cell_type": "code",
   "execution_count": 10,
   "metadata": {},
   "outputs": [
    {
     "data": {
      "text/plain": [
       "array([[<AxesSubplot:title={'center':'IDpassageiro'}>,\n",
       "        <AxesSubplot:title={'center':'Sobrevivente'}>,\n",
       "        <AxesSubplot:title={'center':'Classe'}>],\n",
       "       [<AxesSubplot:title={'center':'Idade'}>,\n",
       "        <AxesSubplot:title={'center':'Conjugue'}>,\n",
       "        <AxesSubplot:title={'center':'Familia'}>],\n",
       "       [<AxesSubplot:title={'center':'Preço'}>, <AxesSubplot:>,\n",
       "        <AxesSubplot:>]], dtype=object)"
      ]
     },
     "execution_count": 10,
     "metadata": {},
     "output_type": "execute_result"
    },
    {
     "data": {
      "image/png": "[encoded data removed]",
      "text/plain": [
       "<Figure size 1440x720 with 9 Axes>"
      ]
     },
     "metadata": {
      "needs_background": "light"
     },
     "output_type": "display_data"
    }
   ],
   "source": [
    "#vendo o historiograma dos dados\n",
    "treino.hist(figsize=(20,10))"
   ]
  },
  {
   "cell_type": "markdown",
   "metadata": {},
   "source": [
    "# Analisando as probabilidades"
   ]
  },
  {
   "cell_type": "code",
   "execution_count": 11,
   "metadata": {},
   "outputs": [
    {
     "data": {
      "text/plain": [
       "Index(['IDpassageiro', 'Sobrevivente', 'Classe', 'Nome', 'Sexo', 'Idade',\n",
       "       'Conjugue', 'Familia', 'Bilhete', 'Preço', 'Cabine', 'Porto'],\n",
       "      dtype='object')"
      ]
     },
     "execution_count": 11,
     "metadata": {},
     "output_type": "execute_result"
    }
   ],
   "source": [
    "treino.columns"
   ]
  },
  {
   "cell_type": "code",
   "execution_count": 12,
   "metadata": {},
   "outputs": [
    {
     "data": {
      "text/html": [
       "<div>\n",
       "<style scoped>\n",
       "    .dataframe tbody tr th:only-of-type {\n",
       "        vertical-align: middle;\n",
       "    }\n",
       "\n",
       "    .dataframe tbody tr th {\n",
       "        vertical-align: top;\n",
       "    }\n",
       "\n",
       "    .dataframe thead th {\n",
       "        text-align: right;\n",
       "    }\n",
       "</style>\n",
       "<table border=\"1\" class=\"dataframe\">\n",
       "  <thead>\n",
       "    <tr style=\"text-align: right;\">\n",
       "      <th></th>\n",
       "      <th>Sobrevivente</th>\n",
       "    </tr>\n",
       "    <tr>\n",
       "      <th>Sexo</th>\n",
       "      <th></th>\n",
       "    </tr>\n",
       "  </thead>\n",
       "  <tbody>\n",
       "    <tr>\n",
       "      <th>female</th>\n",
       "      <td>0.74</td>\n",
       "    </tr>\n",
       "    <tr>\n",
       "      <th>male</th>\n",
       "      <td>0.19</td>\n",
       "    </tr>\n",
       "  </tbody>\n",
       "</table>\n",
       "</div>"
      ],
      "text/plain": [
       "        Sobrevivente\n",
       "Sexo                \n",
       "female          0.74\n",
       "male            0.19"
      ]
     },
     "execution_count": 12,
     "metadata": {},
     "output_type": "execute_result"
    }
   ],
   "source": [
    "#probabilidade por sexo.\n",
    "treino[['Sexo', 'Sobrevivente']].groupby(['Sexo']).mean().round(2)"
   ]
  },
  {
   "cell_type": "code",
   "execution_count": 13,
   "metadata": {},
   "outputs": [
    {
     "data": {
      "image/png": "[encoded data removed]",
      "text/plain": [
       "<Figure size 1440x720 with 3 Axes>"
      ]
     },
     "metadata": {
      "needs_background": "light"
     },
     "output_type": "display_data"
    }
   ],
   "source": [
    "# Plotar os gráficos para Sobrevivente vs. Sexo, Classe e Porto\n",
    "fig, (axis1, axis2, axis3) = plt.subplots(1,3, figsize=(20,10))\n",
    "\n",
    "sns.barplot(x='Sexo', y='Sobrevivente', data=treino, ax=axis1)\n",
    "sns.barplot(x='Classe', y='Sobrevivente', data=treino, ax=axis2)\n",
    "sns.barplot(x='Porto', y='Sobrevivente', data=treino, ax=axis3);"
   ]
  },
  {
   "cell_type": "markdown",
   "metadata": {},
   "source": [
    "> Na análise acima, podemos observar que as chances de sobreviver foram maiores para as mulheres do que para os homens\n",
    "> e destas mulheres, as pertentes a classe 2 e que embarcaram de Cherbourg"
   ]
  },
  {
   "cell_type": "code",
   "execution_count": 14,
   "metadata": {},
   "outputs": [
    {
     "name": "stderr",
     "output_type": "stream",
     "text": [
      "C:\\Users\\batestin1\\anaconda\\lib\\site-packages\\seaborn\\distributions.py:2557: FutureWarning: `distplot` is a deprecated function and will be removed in a future version. Please adapt your code to use either `displot` (a figure-level function with similar flexibility) or `histplot` (an axes-level function for histograms).\n",
      "  warnings.warn(msg, FutureWarning)\n",
      "C:\\Users\\batestin1\\anaconda\\lib\\site-packages\\seaborn\\distributions.py:2557: FutureWarning: `distplot` is a deprecated function and will be removed in a future version. Please adapt your code to use either `displot` (a figure-level function with similar flexibility) or `histplot` (an axes-level function for histograms).\n",
      "  warnings.warn(msg, FutureWarning)\n"
     ]
    },
    {
     "data": {
      "text/plain": [
       "<seaborn.axisgrid.FacetGrid at 0xc2cc2e0>"
      ]
     },
     "execution_count": 14,
     "metadata": {},
     "output_type": "execute_result"
    },
    {
     "data": {
      "image/png": "[encoded data removed]",
      "text/plain": [
       "<Figure size 432x216 with 2 Axes>"
      ]
     },
     "metadata": {
      "needs_background": "light"
     },
     "output_type": "display_data"
    }
   ],
   "source": [
    "# ver influência da idade na probabilidade de sobrevivência\n",
    "idadeSobrevivente = sns.FacetGrid(treino, col='Sobrevivente')\n",
    "idadeSobrevivente.map(sns.distplot, 'Idade')"
   ]
  },
  {
   "cell_type": "markdown",
   "metadata": {},
   "source": [
    "> A idade aproximada de sobreviventes eram entre 20 a 30 anos, a partir dos 40 o grafico claramente diminui"
   ]
  },
  {
   "cell_type": "code",
   "execution_count": 15,
   "metadata": {},
   "outputs": [
    {
     "data": {
      "image/png": "[encoded data removed]",
      "text/plain": [
       "<Figure size 1080x720 with 16 Axes>"
      ]
     },
     "metadata": {
      "needs_background": "light"
     },
     "output_type": "display_data"
    }
   ],
   "source": [
    "# plotar uma scatter matrix\n",
    "columns=['Familia', 'Conjugue', 'Idade', 'Classe']\n",
    "pd.plotting.scatter_matrix(treino[columns], figsize=(15, 10));"
   ]
  },
  {
   "cell_type": "markdown",
   "metadata": {},
   "source": [
    "> No grafico acima, podemos observar uma matriz de dispersão das variaveis\n",
    "> 1. Classe\n",
    "> 2. Idade\n",
    "> 3. Conjugue\n",
    "> 4. Familia"
   ]
  },
  {
   "cell_type": "code",
   "execution_count": 16,
   "metadata": {},
   "outputs": [
    {
     "data": {
      "image/png": "[encoded data removed]",
      "text/plain": [
       "<Figure size 432x288 with 2 Axes>"
      ]
     },
     "metadata": {
      "needs_background": "light"
     },
     "output_type": "display_data"
    }
   ],
   "source": [
    "# plotar o heatmap para as variáveis numéricas\n",
    "sns.heatmap(treino.corr(), cmap='coolwarm', fmt='.2f', linewidths=0.5,\n",
    "            vmax=1.0, square=True, linecolor='white', annot=True);"
   ]
  },
  {
   "cell_type": "markdown",
   "metadata": {},
   "source": [
    "> Pouca gente sabe que o método describe() pode ser usado também para ver algo sobre a estatística descritiva em colunas que não são números. Para isso, é só passar o argumento include=['O']."
   ]
  },
  {
   "cell_type": "code",
   "execution_count": 17,
   "metadata": {},
   "outputs": [
    {
     "data": {
      "text/html": [
       "<div>\n",
       "<style scoped>\n",
       "    .dataframe tbody tr th:only-of-type {\n",
       "        vertical-align: middle;\n",
       "    }\n",
       "\n",
       "    .dataframe tbody tr th {\n",
       "        vertical-align: top;\n",
       "    }\n",
       "\n",
       "    .dataframe thead th {\n",
       "        text-align: right;\n",
       "    }\n",
       "</style>\n",
       "<table border=\"1\" class=\"dataframe\">\n",
       "  <thead>\n",
       "    <tr style=\"text-align: right;\">\n",
       "      <th></th>\n",
       "      <th>Nome</th>\n",
       "      <th>Sexo</th>\n",
       "      <th>Bilhete</th>\n",
       "      <th>Cabine</th>\n",
       "      <th>Porto</th>\n",
       "    </tr>\n",
       "  </thead>\n",
       "  <tbody>\n",
       "    <tr>\n",
       "      <th>count</th>\n",
       "      <td>891</td>\n",
       "      <td>891</td>\n",
       "      <td>891</td>\n",
       "      <td>204</td>\n",
       "      <td>889</td>\n",
       "    </tr>\n",
       "    <tr>\n",
       "      <th>unique</th>\n",
       "      <td>891</td>\n",
       "      <td>2</td>\n",
       "      <td>681</td>\n",
       "      <td>147</td>\n",
       "      <td>3</td>\n",
       "    </tr>\n",
       "    <tr>\n",
       "      <th>top</th>\n",
       "      <td>Leinonen, Mr. Antti Gustaf</td>\n",
       "      <td>male</td>\n",
       "      <td>347082</td>\n",
       "      <td>B96 B98</td>\n",
       "      <td>S</td>\n",
       "    </tr>\n",
       "    <tr>\n",
       "      <th>freq</th>\n",
       "      <td>1</td>\n",
       "      <td>577</td>\n",
       "      <td>7</td>\n",
       "      <td>4</td>\n",
       "      <td>644</td>\n",
       "    </tr>\n",
       "  </tbody>\n",
       "</table>\n",
       "</div>"
      ],
      "text/plain": [
       "                              Nome  Sexo Bilhete   Cabine Porto\n",
       "count                          891   891     891      204   889\n",
       "unique                         891     2     681      147     3\n",
       "top     Leinonen, Mr. Antti Gustaf  male  347082  B96 B98     S\n",
       "freq                             1   577       7        4   644"
      ]
     },
     "execution_count": 17,
     "metadata": {},
     "output_type": "execute_result"
    }
   ],
   "source": [
    "treino.describe(include=['O'])"
   ]
  },
  {
   "cell_type": "markdown",
   "metadata": {},
   "source": [
    "> <b> Os dados nos apresenta as seguintes inferências:</b>\n",
    "> * Os valores para <b>Nome</b> são únicos, um para cada pessoa;\n",
    "> * Não há <i> missing</i> para os valores <b> Nome </b> e <b> Sexo; </b>\n",
    "> * Existem apenas sexos Masculinos e Femininos;\n",
    "> * O porto no qual embarcaram mais passageiros é o de Southampton\n"
   ]
  },
  {
   "cell_type": "markdown",
   "metadata": {},
   "source": [
    "# 4. Preparação dos Dados"
   ]
  },
  {
   "cell_type": "markdown",
   "metadata": {},
   "source": [
    "<p> Até o presente momento, uma analise exploratória, com gráficos nos informa o que devemos conhecer dos dados. A partir de agora iremos trabalhar machine learning com a previsão para calcular as probabilidades de sobrevivência dos passageiros.</p>"
   ]
  },
  {
   "cell_type": "markdown",
   "metadata": {},
   "source": [
    " > Vamos juntar os datasets de treino e testes em um unico arquivo, e depois separa-los novamente.\n",
    " > Vamos fazer um <i>feature engineering</i>, criar variáveis <i>dummy</i> para que nosso modelo poassa treinado em cima dessa arquitetura.\n",
    " > Dessa maneira os dados de teste vão ter que seguir essa mesma estrutura."
   ]
  },
  {
   "cell_type": "code",
   "execution_count": 18,
   "metadata": {},
   "outputs": [],
   "source": [
    "# salvar os índices dos datasets para recuperação posterior\n",
    "treino_idx = treino.shape[0]\n",
    "teste_idx = treino.shape[0]"
   ]
  },
  {
   "cell_type": "code",
   "execution_count": 19,
   "metadata": {},
   "outputs": [],
   "source": [
    "# salvar IDpassageiro para submissao ao Kaggle\n",
    "IDpassageiro = teste['IDpassageiro']"
   ]
  },
  {
   "cell_type": "code",
   "execution_count": 20,
   "metadata": {},
   "outputs": [],
   "source": [
    "# extrair coluna 'Sobrevivente' e excluir ela do dataset treino\n",
    "target = treino.Sobrevivente.copy()\n",
    "treino.drop(['Sobrevivente'], axis=1, inplace=True)"
   ]
  },
  {
   "cell_type": "code",
   "execution_count": 21,
   "metadata": {},
   "outputs": [
    {
     "name": "stdout",
     "output_type": "stream",
     "text": [
      "O valor da concatenização de ambos modelos são, respectivamente (1309 x 11)\n"
     ]
    }
   ],
   "source": [
    "# concatenar treino e teste em um único DataFrame\n",
    "titanic = pd.concat(objs=[treino, teste], axis=0).reset_index(drop=True)\n",
    "print(f\"O valor da concatenização de ambos modelos são, respectivamente ({titanic.shape[0]} x {titanic.shape[1]})\")"
   ]
  },
  {
   "cell_type": "markdown",
   "metadata": {},
   "source": [
    "# Selecionar as <i> features </i>\n",
    "\n",
    "> Tendo em vista que as variaveis como ID de Passageiro, nome, bilhetes e cabine não parecem relevantes, tornaremos elas <i> features </i> em nosso modelo de predição. "
   ]
  },
  {
   "cell_type": "code",
   "execution_count": 22,
   "metadata": {},
   "outputs": [],
   "source": [
    "titanic.drop(['IDpassageiro', 'Nome', 'Bilhete', 'Cabine'], axis=1, inplace=True)"
   ]
  },
  {
   "cell_type": "code",
   "execution_count": 23,
   "metadata": {},
   "outputs": [
    {
     "data": {
      "text/html": [
       "<div>\n",
       "<style scoped>\n",
       "    .dataframe tbody tr th:only-of-type {\n",
       "        vertical-align: middle;\n",
       "    }\n",
       "\n",
       "    .dataframe tbody tr th {\n",
       "        vertical-align: top;\n",
       "    }\n",
       "\n",
       "    .dataframe thead th {\n",
       "        text-align: right;\n",
       "    }\n",
       "</style>\n",
       "<table border=\"1\" class=\"dataframe\">\n",
       "  <thead>\n",
       "    <tr style=\"text-align: right;\">\n",
       "      <th></th>\n",
       "      <th>Classe</th>\n",
       "      <th>Sexo</th>\n",
       "      <th>Idade</th>\n",
       "      <th>Conjugue</th>\n",
       "      <th>Familia</th>\n",
       "      <th>Preço</th>\n",
       "      <th>Porto</th>\n",
       "    </tr>\n",
       "  </thead>\n",
       "  <tbody>\n",
       "    <tr>\n",
       "      <th>0</th>\n",
       "      <td>3</td>\n",
       "      <td>male</td>\n",
       "      <td>22.0</td>\n",
       "      <td>1</td>\n",
       "      <td>0</td>\n",
       "      <td>7.2500</td>\n",
       "      <td>S</td>\n",
       "    </tr>\n",
       "    <tr>\n",
       "      <th>1</th>\n",
       "      <td>1</td>\n",
       "      <td>female</td>\n",
       "      <td>38.0</td>\n",
       "      <td>1</td>\n",
       "      <td>0</td>\n",
       "      <td>71.2833</td>\n",
       "      <td>C</td>\n",
       "    </tr>\n",
       "    <tr>\n",
       "      <th>2</th>\n",
       "      <td>3</td>\n",
       "      <td>female</td>\n",
       "      <td>26.0</td>\n",
       "      <td>0</td>\n",
       "      <td>0</td>\n",
       "      <td>7.9250</td>\n",
       "      <td>S</td>\n",
       "    </tr>\n",
       "    <tr>\n",
       "      <th>3</th>\n",
       "      <td>1</td>\n",
       "      <td>female</td>\n",
       "      <td>35.0</td>\n",
       "      <td>1</td>\n",
       "      <td>0</td>\n",
       "      <td>53.1000</td>\n",
       "      <td>S</td>\n",
       "    </tr>\n",
       "    <tr>\n",
       "      <th>4</th>\n",
       "      <td>3</td>\n",
       "      <td>male</td>\n",
       "      <td>35.0</td>\n",
       "      <td>0</td>\n",
       "      <td>0</td>\n",
       "      <td>8.0500</td>\n",
       "      <td>S</td>\n",
       "    </tr>\n",
       "    <tr>\n",
       "      <th>...</th>\n",
       "      <td>...</td>\n",
       "      <td>...</td>\n",
       "      <td>...</td>\n",
       "      <td>...</td>\n",
       "      <td>...</td>\n",
       "      <td>...</td>\n",
       "      <td>...</td>\n",
       "    </tr>\n",
       "    <tr>\n",
       "      <th>1304</th>\n",
       "      <td>3</td>\n",
       "      <td>male</td>\n",
       "      <td>NaN</td>\n",
       "      <td>0</td>\n",
       "      <td>0</td>\n",
       "      <td>8.0500</td>\n",
       "      <td>S</td>\n",
       "    </tr>\n",
       "    <tr>\n",
       "      <th>1305</th>\n",
       "      <td>1</td>\n",
       "      <td>female</td>\n",
       "      <td>39.0</td>\n",
       "      <td>0</td>\n",
       "      <td>0</td>\n",
       "      <td>108.9000</td>\n",
       "      <td>C</td>\n",
       "    </tr>\n",
       "    <tr>\n",
       "      <th>1306</th>\n",
       "      <td>3</td>\n",
       "      <td>male</td>\n",
       "      <td>38.5</td>\n",
       "      <td>0</td>\n",
       "      <td>0</td>\n",
       "      <td>7.2500</td>\n",
       "      <td>S</td>\n",
       "    </tr>\n",
       "    <tr>\n",
       "      <th>1307</th>\n",
       "      <td>3</td>\n",
       "      <td>male</td>\n",
       "      <td>NaN</td>\n",
       "      <td>0</td>\n",
       "      <td>0</td>\n",
       "      <td>8.0500</td>\n",
       "      <td>S</td>\n",
       "    </tr>\n",
       "    <tr>\n",
       "      <th>1308</th>\n",
       "      <td>3</td>\n",
       "      <td>male</td>\n",
       "      <td>NaN</td>\n",
       "      <td>1</td>\n",
       "      <td>1</td>\n",
       "      <td>22.3583</td>\n",
       "      <td>C</td>\n",
       "    </tr>\n",
       "  </tbody>\n",
       "</table>\n",
       "<p>1309 rows × 7 columns</p>\n",
       "</div>"
      ],
      "text/plain": [
       "      Classe    Sexo  Idade  Conjugue  Familia     Preço Porto\n",
       "0          3    male   22.0         1        0    7.2500     S\n",
       "1          1  female   38.0         1        0   71.2833     C\n",
       "2          3  female   26.0         0        0    7.9250     S\n",
       "3          1  female   35.0         1        0   53.1000     S\n",
       "4          3    male   35.0         0        0    8.0500     S\n",
       "...      ...     ...    ...       ...      ...       ...   ...\n",
       "1304       3    male    NaN         0        0    8.0500     S\n",
       "1305       1  female   39.0         0        0  108.9000     C\n",
       "1306       3    male   38.5         0        0    7.2500     S\n",
       "1307       3    male    NaN         0        0    8.0500     S\n",
       "1308       3    male    NaN         1        1   22.3583     C\n",
       "\n",
       "[1309 rows x 7 columns]"
      ]
     },
     "execution_count": 23,
     "metadata": {},
     "output_type": "execute_result"
    }
   ],
   "source": [
    "titanic"
   ]
  },
  {
   "cell_type": "markdown",
   "metadata": {},
   "source": [
    "> Deste modo nos sobra as variaveis para analises Classe, Sexo, Idade, Conjugue, Familia, Preço e Porto"
   ]
  },
  {
   "cell_type": "code",
   "execution_count": 24,
   "metadata": {},
   "outputs": [
    {
     "data": {
      "text/plain": [
       "Classe        0\n",
       "Sexo          0\n",
       "Idade       263\n",
       "Conjugue      0\n",
       "Familia       0\n",
       "Preço         1\n",
       "Porto         2\n",
       "dtype: int64"
      ]
     },
     "execution_count": 24,
     "metadata": {},
     "output_type": "execute_result"
    }
   ],
   "source": [
    "## Valores Faltantes\n",
    "titanic.isnull().sum()"
   ]
  },
  {
   "cell_type": "markdown",
   "metadata": {},
   "source": [
    "> Para as variáveis idade e tarifa, vou colocar o valor da mediana, e para a variável do porto de embarque, vou colocar o valor com maior frequência."
   ]
  },
  {
   "cell_type": "code",
   "execution_count": 25,
   "metadata": {},
   "outputs": [],
   "source": [
    "# idade\n",
    "Idade_mediana = titanic['Idade'].median()\n",
    "titanic['Idade'].fillna(Idade_mediana, inplace=True)\n",
    "\n",
    "#Preço\n",
    "\n",
    "Preco_mediana = titanic['Preço'].median()\n",
    "titanic['Preço'].fillna(Preco_mediana, inplace=True)\n",
    "\n",
    "#porto\n",
    "\n",
    "Porto_top = titanic['Porto'].value_counts()[0]\n",
    "titanic['Porto'].fillna(Porto_top, inplace=True)"
   ]
  },
  {
   "cell_type": "markdown",
   "metadata": {},
   "source": [
    "> Agora com os dados limpos, vamos seguir para os modelos de matematica"
   ]
  },
  {
   "cell_type": "markdown",
   "metadata": {},
   "source": [
    "### Preparando as variaives para o modelo\n",
    "> Um dos principios para trabalhar com modelos de previsão é transformar variáveis categoricas em variáveis números.\n",
    "> Primeiro transformamos sexo em 0 Para Masculino e 1 para Feminino.\n",
    "> E as variaveis Dummies para uma variavel categorica para ficar mais facil de entender."
   ]
  },
  {
   "cell_type": "code",
   "execution_count": 26,
   "metadata": {},
   "outputs": [
    {
     "data": {
      "text/html": [
       "<div>\n",
       "<style scoped>\n",
       "    .dataframe tbody tr th:only-of-type {\n",
       "        vertical-align: middle;\n",
       "    }\n",
       "\n",
       "    .dataframe tbody tr th {\n",
       "        vertical-align: top;\n",
       "    }\n",
       "\n",
       "    .dataframe thead th {\n",
       "        text-align: right;\n",
       "    }\n",
       "</style>\n",
       "<table border=\"1\" class=\"dataframe\">\n",
       "  <thead>\n",
       "    <tr style=\"text-align: right;\">\n",
       "      <th></th>\n",
       "      <th>Classe</th>\n",
       "      <th>Sexo</th>\n",
       "      <th>Idade</th>\n",
       "      <th>Conjugue</th>\n",
       "      <th>Familia</th>\n",
       "      <th>Preço</th>\n",
       "      <th>Porto</th>\n",
       "    </tr>\n",
       "  </thead>\n",
       "  <tbody>\n",
       "    <tr>\n",
       "      <th>0</th>\n",
       "      <td>3</td>\n",
       "      <td>0</td>\n",
       "      <td>22.0</td>\n",
       "      <td>1</td>\n",
       "      <td>0</td>\n",
       "      <td>7.2500</td>\n",
       "      <td>S</td>\n",
       "    </tr>\n",
       "    <tr>\n",
       "      <th>1</th>\n",
       "      <td>1</td>\n",
       "      <td>1</td>\n",
       "      <td>38.0</td>\n",
       "      <td>1</td>\n",
       "      <td>0</td>\n",
       "      <td>71.2833</td>\n",
       "      <td>C</td>\n",
       "    </tr>\n",
       "    <tr>\n",
       "      <th>2</th>\n",
       "      <td>3</td>\n",
       "      <td>1</td>\n",
       "      <td>26.0</td>\n",
       "      <td>0</td>\n",
       "      <td>0</td>\n",
       "      <td>7.9250</td>\n",
       "      <td>S</td>\n",
       "    </tr>\n",
       "    <tr>\n",
       "      <th>3</th>\n",
       "      <td>1</td>\n",
       "      <td>1</td>\n",
       "      <td>35.0</td>\n",
       "      <td>1</td>\n",
       "      <td>0</td>\n",
       "      <td>53.1000</td>\n",
       "      <td>S</td>\n",
       "    </tr>\n",
       "    <tr>\n",
       "      <th>4</th>\n",
       "      <td>3</td>\n",
       "      <td>0</td>\n",
       "      <td>35.0</td>\n",
       "      <td>0</td>\n",
       "      <td>0</td>\n",
       "      <td>8.0500</td>\n",
       "      <td>S</td>\n",
       "    </tr>\n",
       "    <tr>\n",
       "      <th>...</th>\n",
       "      <td>...</td>\n",
       "      <td>...</td>\n",
       "      <td>...</td>\n",
       "      <td>...</td>\n",
       "      <td>...</td>\n",
       "      <td>...</td>\n",
       "      <td>...</td>\n",
       "    </tr>\n",
       "    <tr>\n",
       "      <th>1304</th>\n",
       "      <td>3</td>\n",
       "      <td>0</td>\n",
       "      <td>28.0</td>\n",
       "      <td>0</td>\n",
       "      <td>0</td>\n",
       "      <td>8.0500</td>\n",
       "      <td>S</td>\n",
       "    </tr>\n",
       "    <tr>\n",
       "      <th>1305</th>\n",
       "      <td>1</td>\n",
       "      <td>1</td>\n",
       "      <td>39.0</td>\n",
       "      <td>0</td>\n",
       "      <td>0</td>\n",
       "      <td>108.9000</td>\n",
       "      <td>C</td>\n",
       "    </tr>\n",
       "    <tr>\n",
       "      <th>1306</th>\n",
       "      <td>3</td>\n",
       "      <td>0</td>\n",
       "      <td>38.5</td>\n",
       "      <td>0</td>\n",
       "      <td>0</td>\n",
       "      <td>7.2500</td>\n",
       "      <td>S</td>\n",
       "    </tr>\n",
       "    <tr>\n",
       "      <th>1307</th>\n",
       "      <td>3</td>\n",
       "      <td>0</td>\n",
       "      <td>28.0</td>\n",
       "      <td>0</td>\n",
       "      <td>0</td>\n",
       "      <td>8.0500</td>\n",
       "      <td>S</td>\n",
       "    </tr>\n",
       "    <tr>\n",
       "      <th>1308</th>\n",
       "      <td>3</td>\n",
       "      <td>0</td>\n",
       "      <td>28.0</td>\n",
       "      <td>1</td>\n",
       "      <td>1</td>\n",
       "      <td>22.3583</td>\n",
       "      <td>C</td>\n",
       "    </tr>\n",
       "  </tbody>\n",
       "</table>\n",
       "<p>1309 rows × 7 columns</p>\n",
       "</div>"
      ],
      "text/plain": [
       "      Classe  Sexo  Idade  Conjugue  Familia     Preço Porto\n",
       "0          3     0   22.0         1        0    7.2500     S\n",
       "1          1     1   38.0         1        0   71.2833     C\n",
       "2          3     1   26.0         0        0    7.9250     S\n",
       "3          1     1   35.0         1        0   53.1000     S\n",
       "4          3     0   35.0         0        0    8.0500     S\n",
       "...      ...   ...    ...       ...      ...       ...   ...\n",
       "1304       3     0   28.0         0        0    8.0500     S\n",
       "1305       1     1   39.0         0        0  108.9000     C\n",
       "1306       3     0   38.5         0        0    7.2500     S\n",
       "1307       3     0   28.0         0        0    8.0500     S\n",
       "1308       3     0   28.0         1        1   22.3583     C\n",
       "\n",
       "[1309 rows x 7 columns]"
      ]
     },
     "execution_count": 26,
     "metadata": {},
     "output_type": "execute_result"
    }
   ],
   "source": [
    "# converter 'Sexo' em 0 e 1\n",
    "titanic['Sexo'] = titanic['Sexo'].map({'male': 0, 'female': 1})\n",
    "titanic"
   ]
  },
  {
   "cell_type": "code",
   "execution_count": 27,
   "metadata": {},
   "outputs": [
    {
     "data": {
      "text/html": [
       "<div>\n",
       "<style scoped>\n",
       "    .dataframe tbody tr th:only-of-type {\n",
       "        vertical-align: middle;\n",
       "    }\n",
       "\n",
       "    .dataframe tbody tr th {\n",
       "        vertical-align: top;\n",
       "    }\n",
       "\n",
       "    .dataframe thead th {\n",
       "        text-align: right;\n",
       "    }\n",
       "</style>\n",
       "<table border=\"1\" class=\"dataframe\">\n",
       "  <thead>\n",
       "    <tr style=\"text-align: right;\">\n",
       "      <th></th>\n",
       "      <th>Classe</th>\n",
       "      <th>Sexo</th>\n",
       "      <th>Idade</th>\n",
       "      <th>Conjugue</th>\n",
       "      <th>Familia</th>\n",
       "      <th>Preço</th>\n",
       "      <th>Porto_914</th>\n",
       "      <th>Porto_C</th>\n",
       "      <th>Porto_Q</th>\n",
       "      <th>Porto_S</th>\n",
       "    </tr>\n",
       "  </thead>\n",
       "  <tbody>\n",
       "    <tr>\n",
       "      <th>0</th>\n",
       "      <td>3</td>\n",
       "      <td>0</td>\n",
       "      <td>22.0</td>\n",
       "      <td>1</td>\n",
       "      <td>0</td>\n",
       "      <td>7.2500</td>\n",
       "      <td>0</td>\n",
       "      <td>0</td>\n",
       "      <td>0</td>\n",
       "      <td>1</td>\n",
       "    </tr>\n",
       "    <tr>\n",
       "      <th>1</th>\n",
       "      <td>1</td>\n",
       "      <td>1</td>\n",
       "      <td>38.0</td>\n",
       "      <td>1</td>\n",
       "      <td>0</td>\n",
       "      <td>71.2833</td>\n",
       "      <td>0</td>\n",
       "      <td>1</td>\n",
       "      <td>0</td>\n",
       "      <td>0</td>\n",
       "    </tr>\n",
       "    <tr>\n",
       "      <th>2</th>\n",
       "      <td>3</td>\n",
       "      <td>1</td>\n",
       "      <td>26.0</td>\n",
       "      <td>0</td>\n",
       "      <td>0</td>\n",
       "      <td>7.9250</td>\n",
       "      <td>0</td>\n",
       "      <td>0</td>\n",
       "      <td>0</td>\n",
       "      <td>1</td>\n",
       "    </tr>\n",
       "    <tr>\n",
       "      <th>3</th>\n",
       "      <td>1</td>\n",
       "      <td>1</td>\n",
       "      <td>35.0</td>\n",
       "      <td>1</td>\n",
       "      <td>0</td>\n",
       "      <td>53.1000</td>\n",
       "      <td>0</td>\n",
       "      <td>0</td>\n",
       "      <td>0</td>\n",
       "      <td>1</td>\n",
       "    </tr>\n",
       "    <tr>\n",
       "      <th>4</th>\n",
       "      <td>3</td>\n",
       "      <td>0</td>\n",
       "      <td>35.0</td>\n",
       "      <td>0</td>\n",
       "      <td>0</td>\n",
       "      <td>8.0500</td>\n",
       "      <td>0</td>\n",
       "      <td>0</td>\n",
       "      <td>0</td>\n",
       "      <td>1</td>\n",
       "    </tr>\n",
       "  </tbody>\n",
       "</table>\n",
       "</div>"
      ],
      "text/plain": [
       "   Classe  Sexo  Idade  Conjugue  Familia    Preço  Porto_914  Porto_C  \\\n",
       "0       3     0   22.0         1        0   7.2500          0        0   \n",
       "1       1     1   38.0         1        0  71.2833          0        1   \n",
       "2       3     1   26.0         0        0   7.9250          0        0   \n",
       "3       1     1   35.0         1        0  53.1000          0        0   \n",
       "4       3     0   35.0         0        0   8.0500          0        0   \n",
       "\n",
       "   Porto_Q  Porto_S  \n",
       "0        0        1  \n",
       "1        0        0  \n",
       "2        0        1  \n",
       "3        0        1  \n",
       "4        0        1  "
      ]
     },
     "metadata": {},
     "output_type": "display_data"
    }
   ],
   "source": [
    "porto_dummies = pd.get_dummies(titanic['Porto'], prefix='Porto')\n",
    "titanic = pd.concat([titanic, porto_dummies], axis=1 )\n",
    "titanic.drop('Porto', axis=1, inplace=True)\n",
    "display(titanic.head())"
   ]
  },
  {
   "cell_type": "markdown",
   "metadata": {},
   "source": [
    "### Recuperado os datasets de treino e teste\n",
    "> Dividi a variavel titanic em dois modelos treino2 e teste2, conforme anunciamos no começo do projeto"
   ]
  },
  {
   "cell_type": "code",
   "execution_count": 28,
   "metadata": {},
   "outputs": [],
   "source": [
    "treino2 = titanic.iloc[:treino_idx]\n",
    "teste2 = titanic.iloc[treino_idx:]"
   ]
  },
  {
   "cell_type": "markdown",
   "metadata": {},
   "source": [
    "> * Aplicando Modelo de Regressão Logistica\n",
    "> * Aplicando Modelo de Árvore de Decisão"
   ]
  },
  {
   "cell_type": "code",
   "execution_count": 29,
   "metadata": {},
   "outputs": [
    {
     "name": "stdout",
     "output_type": "stream",
     "text": [
      "Acurácia do modelo de regressão logistica é 80.13\n"
     ]
    }
   ],
   "source": [
    "modeloRegressao = LogisticRegression(solver='liblinear')\n",
    "modeloRegressao.fit(treino2,target)\n",
    "\n",
    "#verificar a acurácia do modelo\n",
    "acuracia = round(modeloRegressao.score(treino2, target) * 100,2)\n",
    "print(f'Acurácia do modelo de regressão logistica é {acuracia}')"
   ]
  },
  {
   "cell_type": "markdown",
   "metadata": {},
   "source": [
    "> Com praticamente duas linhas, construímos um modelo de Regressão Logística com acurácia de 80% em cima do conjunto de dados de treino."
   ]
  },
  {
   "cell_type": "code",
   "execution_count": 30,
   "metadata": {},
   "outputs": [],
   "source": [
    "modeloPredicao = modeloRegressao.predict(teste2)\n",
    "\n",
    "submissao = pd.DataFrame({\n",
    "    \"IDpassageiro\": IDpassageiro,\n",
    "    \"Sobrevivente\": modeloPredicao\n",
    "})\n",
    "\n",
    "#gerar um arquivo csv\n",
    "submissao.to_csv('modeloPredicao.csv', index=False)"
   ]
  },
  {
   "cell_type": "markdown",
   "metadata": {},
   "source": [
    "### Trabalhando a Arvore de Decisão"
   ]
  },
  {
   "cell_type": "code",
   "execution_count": 31,
   "metadata": {},
   "outputs": [
    {
     "name": "stdout",
     "output_type": "stream",
     "text": [
      "A Acurácia do Modelo de Árvore de Decisão é 82.72\n"
     ]
    }
   ],
   "source": [
    "arvoreModelo = DecisionTreeClassifier(max_depth=3)\n",
    "arvoreModelo.fit(treino2,target)\n",
    "\n",
    "#Verificando a acúracia do modelo\n",
    "acuracia2 = round(arvoreModelo.score(treino2, target) * 100, 2)\n",
    "print(f\"A Acurácia do Modelo de Árvore de Decisão é {acuracia2}\")"
   ]
  },
  {
   "cell_type": "markdown",
   "metadata": {},
   "source": [
    "> Um pequeno ganho na acurácia, chegando agora a quase 83%. "
   ]
  },
  {
   "cell_type": "code",
   "execution_count": 32,
   "metadata": {},
   "outputs": [],
   "source": [
    "arvoreModeloDecisao = arvoreModelo.predict(teste2)\n",
    "submissao = pd.DataFrame({\n",
    "    'IDpassageiro': IDpassageiro,\n",
    "    'Sobrevivente': arvoreModeloDecisao\n",
    "})\n",
    "\n",
    "#gerar um arquivo csv\n",
    "submissao.to_csv('ArvoreDecisao.csv', index=False)"
   ]
  },
  {
   "cell_type": "markdown",
   "metadata": {},
   "source": [
    "# Extra\n",
    "<p> <b> Poderia sobreviver ao Titanic? </b> </p>"
   ]
  },
  {
   "cell_type": "markdown",
   "metadata": {},
   "source": [
    "> Para saber se você vai ou não sobreviver, basta preencher as variaveis conforme abaixo\n",
    "\n",
    "> 1. Qual classe vai viajar? (escreva em numero de 1 a 3)\n",
    "> 2. Idade\n",
    "> 3. Familia (Se vai levar filho ou conjugue, escreva a quantidade)\n",
    "> 4. Preço\n",
    "> 5. Porto (Qual porto vai viajar. Escreva em 1 a 3)"
   ]
  },
  {
   "cell_type": "code",
   "execution_count": 33,
   "metadata": {},
   "outputs": [
    {
     "name": "stdout",
     "output_type": "stream",
     "text": [
      "Kate Winslet teria sobrevivido,caso tivesse 35 anos, e houvesse embarcado no porto de Southampton.\n",
      "   levado um bebe e viajado na 2º Classe \n"
     ]
    }
   ],
   "source": [
    "#exemplo\n",
    "\n",
    "Dicaprio = np.array([2,0,35,1,1,32.2,0,0,0,1]).reshape((1,-1))\n",
    "Kate = np.array([2,1,30,1,1,32.2,0,0,0,1]).reshape((1,-1))\n",
    "\n",
    "var1 = arvoreModelo.predict(Dicaprio)[0]\n",
    "var2 =  arvoreModelo.predict(Kate)[0]\n",
    "\n",
    "\n",
    "if var1 >= 1:\n",
    "    print(\"\"\"Leonardo Dicaprio acaso teria sobrevivido, caso tivesse 35 anos, e houvesse embarcado no porto de Southampton.\n",
    "    levado um bebe e viajado na 2º Classe.\"\"\")\n",
    "else:\n",
    "   print(\"\"\"Kate Winslet teria sobrevivido,caso tivesse 35 anos, e houvesse embarcado no porto de Southampton.\n",
    "   levado um bebe e viajado na 2º Classe \"\"\")\n",
    "    \n"
   ]
  },
  {
   "cell_type": "markdown",
   "metadata": {},
   "source": [
    "> Visto a brincadeira, vamos criar as variaveis para nossos colegas"
   ]
  },
  {
   "cell_type": "code",
   "execution_count": 36,
   "metadata": {},
   "outputs": [
    {
     "name": "stdout",
     "output_type": "stream",
     "text": [
      "Digite o seu nomeCristiane \n",
      " Qual a sua faixa etaria:\n",
      "{1} - 0 a 12 anos\n",
      "{2} - 13 a 22 anos\n",
      "{3} - 23 a 39 anos\n",
      "{4} - 40 anos para cima\n",
      "36\n",
      "\n",
      "    Cristiane , com sua faixa etária definida entre 23 e 39 anos\n",
      "    você teria chance de sobreviver ao naufrágio do Titanic. Parabéns\n"
     ]
    }
   ],
   "source": [
    "nome = input('Digite o seu nome')\n",
    "\n",
    "idade: int(input(\"\"\" Qual a sua faixa etaria:\n",
    "{1} - 0 a 12 anos\n",
    "{2} - 13 a 22 anos\n",
    "{3} - 23 a 39 anos\n",
    "{4} - 40 anos para cima\n",
    "\"\"\"))\n",
    "            \n",
    "grupo1 = np.array([2, 0, 12, 1, 1, 32.2, 0, 0, 0, 1]).reshape((1,-1))\n",
    "var1 = arvoreModelo.predict(grupo1)[0]\n",
    "\n",
    "grupo2 = np.array([2, 0, 22, 1, 1, 32.2, 0, 0, 0, 1]).reshape((1,-1))\n",
    "var2 = arvoreModelo.predict(grupo2)[0]\n",
    "\n",
    "grupo3 = np.array([2, 0, 39, 1, 1, 32.2, 0, 0, 0, 1]).reshape((1,-1))\n",
    "var3 = arvoreModelo.predict(grupo3)[0]\n",
    "\n",
    "grupo4 = np.array([2, 0, 50, 1, 1, 32.2, 0, 0, 0, 1]).reshape((1,-1))\n",
    "var4 = arvoreModelo.predict(grupo4)[0]\n",
    "\n",
    "if var1 == 1:\n",
    "    print(f\"\"\"\n",
    "    {nome}, com sua faixa etária definida entre 0 e 12 anos\n",
    "    você não teria chance de sobreviver ao naufrágio do Titanic. Lamento!\"\"\")\n",
    "elif var2 == 1:\n",
    "    print(f\"\"\"\n",
    "    {nome}, com sua faixa etária definida entre 13 e 22 anos\n",
    "    você não teria chance de sobreviver ao naufrágio do Titanic. Lamento!\"\"\")\n",
    "elif var3==0:\n",
    "    print(f\"\"\"\n",
    "    {nome}, com sua faixa etária definida entre 23 e 39 anos\n",
    "    você teria chance de sobreviver ao naufrágio do Titanic. Parabéns\"\"\")\n",
    "elif var4==1:\n",
    "    print(f\"\"\"\n",
    "    {nome}, com sua faixa etária acima de 40 anos,\n",
    "    você não teria chance de sobreviver ao naufrágio do Titanic. Lamento!\"\"\")\n",
    "    \n",
    "\n",
    "    \n",
    "    \n",
    "    \n",
    "    \n",
    "    \n",
    "    \n",
    "    \n",
    "    \n",
    "    \n",
    "    \n",
    "    \n",
    "    \n",
    "    \n",
    "    \n",
    "    \n",
    "    \n",
    "    \n",
    "    \n",
    "    \n",
    "    \n",
    "    \n",
    "    \n",
    "    \n",
    "    \n",
    "    \n",
    "    \n",
    "    \n",
    "    \n",
    "    \n",
    "    \n",
    "    \n",
    "    \n",
    "    \n",
    "    \n",
    "    \n",
    "    "
   ]
  }
 ],
 "metadata": {
  "kernelspec": {
   "display_name": "Python 3",
   "language": "python",
   "name": "python3"
  },
  "language_info": {
   "codemirror_mode": {
    "name": "ipython",
    "version": 3
   },
   "file_extension": ".py",
   "mimetype": "text/x-python",
   "name": "python",
   "nbconvert_exporter": "python",
   "pygments_lexer": "ipython3",
   "version": "3.8.5"
  }
 },
 "nbformat": 4,
 "nbformat_minor": 4
}
